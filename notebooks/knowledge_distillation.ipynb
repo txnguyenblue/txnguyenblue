{
 "cells": [
  {
   "cell_type": "code",
   "execution_count": 1,
   "metadata": {},
   "outputs": [],
   "source": [
    "import tensorflow as tf\n",
    "import sys\n",
    "import numpy as np\n",
    "import matplotlib.pyplot as plt\n",
    "\n",
    "from tensorflow import keras\n",
    "from tensorflow.keras import layers\n",
    "from config import CONFIG\n",
    "sys.path.insert(1, str(CONFIG.src))\n",
    "sys.path.insert(2, str(CONFIG.utils))\n",
    "\n",
    "from utilities import \\\n",
    "(get_accuracy, visualize_losses, BaseModel, Matrix, Vector, get_numpy_instance)\n",
    "\n",
    "# import logging\n",
    "# from logger import LOGGER\n",
    "\n",
    "\n",
    "class Distiller(keras.Model):\n",
    "\n",
    "    def __init__(self, teacher, student) -> None:\n",
    "        super(Distiller, self).__init__()\n",
    "        self.teacher = teacher\n",
    "        self.student = student\n",
    "\n",
    "    def compile(self, optimizer, metrics, student_loss_fn,\n",
    "                    distillation_loss_fn, alpha: float = 0.1, temperature: int = 3) -> None:\n",
    "        \"\"\"Configure the distiller\n",
    "\n",
    "        Args:\n",
    "            optimizer (_type_): Keras optimzer for the student weights\n",
    "            metrics (_type_): Keras metrics for evaluation\n",
    "            student_loss_fn (_type_): Loss function of difference between student predictions and ground-truth\n",
    "            distillation_loss_fn (_type_): Loss function of difference between soft student predictions and soft teacher predictions\n",
    "            alpha (float, optional): weight to student_loss_fn and 1 - alpha to distillation_loss_fn. Defaults to 0.1.\n",
    "            temperature (int, optional): Temperature for softening probability distributions. Larger temperature gives softer distributions. Defaults to 3.\n",
    "        \"\"\"\n",
    "\n",
    "        super(Distiller, self).compile(optimizer=optimizer, metrics=metrics)\n",
    "        self.student_loss_fn = student_loss_fn\n",
    "        self.distillation_loss_fn = distillation_loss_fn\n",
    "        self.alpha = alpha\n",
    "        self.temperature = temperature\n",
    "\n",
    "    def train_step(self, data):\n",
    "        #Unpack data\n",
    "        x, y = data\n",
    "\n",
    "        # Forward pass of teacher\n",
    "        teacher_predictions = self.teacher(x, training=False)\n",
    "\n",
    "        with tf.GradientTape() as tape:\n",
    "            # Forward pass of student\n",
    "            student_predictions = self.student(x, training = True)\n",
    "            \n",
    "            # Compute loss\n",
    "            student_loss = self.student_loss_fn(y, student_predictions)\n",
    "            distillation_loss = self.distillation_loss_fn(\n",
    "                tf.nn.softmax(teacher_predictions / self.temperature, axis=1),\n",
    "                tf.nn.softmax(teacher_predictions / self.temperature, axis=1)\n",
    "            )\n",
    "\n",
    "            loss = self.alpha * student_loss + (1 - self.alpha) * distillation_loss\n",
    "\n",
    "        # Compute gradients\n",
    "        trainable_vars = self.student.trainable_variables\n",
    "        gradients = tape.gradient(loss, trainable_vars)\n",
    "\n",
    "        # Update weights\n",
    "        self.optimizer.apply_gradients(zip(gradients, trainable_vars))\n",
    "\n",
    "        # Return a dict of performance\n",
    "        results = {m.name: m.result() for m in self.metrics}\n",
    "        results.update({\n",
    "            \"student_loss\": student_loss, \"distillation_loss\": distillation_loss\n",
    "        })\n",
    "\n",
    "        return results\n",
    "\n",
    "    def test_step(self, data):\n",
    "        # Unpack data\n",
    "        x, y = data\n",
    "\n",
    "        # Compute predictions\n",
    "        y_prediction = self.student(x, training=False)\n",
    "\n",
    "        # Calculate the loss\n",
    "        student_loss = self.student_loss_fn(y, y_prediction)\n",
    "\n",
    "        # Update the metrics\n",
    "        self.compiled_metrics.update_state(y, y_prediction)\n",
    "\n",
    "        # Return a dict of performacne\n",
    "        results = {m.name: m.result() for m in self.metrics}\n",
    "        results.update({\"student_loss\": student_loss})\n",
    "        return results\n",
    "\n",
    "    \n",
    "teacher = keras.Sequential([\n",
    "    keras.Input(shape=(28, 28, 1)),\n",
    "    layers.Conv2D(256, (3, 3), strides=(2, 2), padding=\"same\"),\n",
    "    layers.LeakyReLU(alpha=0.2),\n",
    "    layers.MaxPooling2D(pool_size=(2, 2), strides=(1, 1), padding=\"same\"),\n",
    "    layers.Conv2D(512, (3, 3), strides=(2, 2), padding=\"same\"),\n",
    "    layers.Flatten(),\n",
    "    layers.Dense(10),\n",
    "], name=\"teacher\",\n",
    ")\n",
    "\n",
    "student = keras.Sequential([\n",
    "    keras.Input(shape=(28, 28, 1)),\n",
    "    layers.Conv2D(16, (3, 3), strides=(2, 2), padding=\"same\"),\n",
    "    layers.LeakyReLU(alpha=0.2),\n",
    "    layers.MaxPooling2D(pool_size=(2, 2), strides=(1, 1), padding=\"same\"),\n",
    "    layers.Conv2D(32, (3, 3), strides=(2, 2), padding=\"same\"),\n",
    "    layers.Flatten(),\n",
    "    layers.Dense(10),\n",
    "    \n",
    "], name=\"student\"\n",
    ")\n"
   ]
  },
  {
   "cell_type": "code",
   "execution_count": 2,
   "metadata": {},
   "outputs": [
    {
     "name": "stdout",
     "output_type": "stream",
     "text": [
      "Epoch 1/5\n",
      " 725/1875 [==========>...................] - ETA: 1:08:12 - loss: 2.3067 - sparse_categorical_accuracy: 0.12 - ETA: 26s - loss: 2.2358 - sparse_categorical_accuracy: 0.1856   - ETA: 26s - loss: 2.1301 - sparse_categorical_accuracy: 0.24 - ETA: 27s - loss: 2.0005 - sparse_categorical_accuracy: 0.30 - ETA: 27s - loss: 1.8781 - sparse_categorical_accuracy: 0.35 - ETA: 27s - loss: 1.7722 - sparse_categorical_accuracy: 0.39 - ETA: 26s - loss: 1.6855 - sparse_categorical_accuracy: 0.42 - ETA: 26s - loss: 1.6091 - sparse_categorical_accuracy: 0.45 - ETA: 26s - loss: 1.5406 - sparse_categorical_accuracy: 0.48 - ETA: 26s - loss: 1.4794 - sparse_categorical_accuracy: 0.50 - ETA: 26s - loss: 1.4248 - sparse_categorical_accuracy: 0.52 - ETA: 26s - loss: 1.3756 - sparse_categorical_accuracy: 0.54 - ETA: 26s - loss: 1.3308 - sparse_categorical_accuracy: 0.55 - ETA: 26s - loss: 1.2899 - sparse_categorical_accuracy: 0.57 - ETA: 26s - loss: 1.2525 - sparse_categorical_accuracy: 0.58 - ETA: 25s - loss: 1.2177 - sparse_categorical_accuracy: 0.59 - ETA: 25s - loss: 1.1856 - sparse_categorical_accuracy: 0.60 - ETA: 25s - loss: 1.1556 - sparse_categorical_accuracy: 0.61 - ETA: 25s - loss: 1.1276 - sparse_categorical_accuracy: 0.62 - ETA: 25s - loss: 1.1014 - sparse_categorical_accuracy: 0.63 - ETA: 25s - loss: 1.0772 - sparse_categorical_accuracy: 0.64 - ETA: 25s - loss: 1.0545 - sparse_categorical_accuracy: 0.65 - ETA: 25s - loss: 1.0332 - sparse_categorical_accuracy: 0.66 - ETA: 25s - loss: 1.0133 - sparse_categorical_accuracy: 0.66 - ETA: 25s - loss: 0.9943 - sparse_categorical_accuracy: 0.67 - ETA: 25s - loss: 0.9807 - sparse_categorical_accuracy: 0.67 - ETA: 25s - loss: 0.9635 - sparse_categorical_accuracy: 0.68 - ETA: 25s - loss: 0.9470 - sparse_categorical_accuracy: 0.69 - ETA: 25s - loss: 0.9315 - sparse_categorical_accuracy: 0.69 - ETA: 25s - loss: 0.9168 - sparse_categorical_accuracy: 0.70 - ETA: 25s - loss: 0.9026 - sparse_categorical_accuracy: 0.70 - ETA: 25s - loss: 0.8891 - sparse_categorical_accuracy: 0.71 - ETA: 24s - loss: 0.8761 - sparse_categorical_accuracy: 0.71 - ETA: 24s - loss: 0.8636 - sparse_categorical_accuracy: 0.71 - ETA: 24s - loss: 0.8516 - sparse_categorical_accuracy: 0.72 - ETA: 24s - loss: 0.8401 - sparse_categorical_accuracy: 0.72 - ETA: 24s - loss: 0.8289 - sparse_categorical_accuracy: 0.73 - ETA: 24s - loss: 0.8181 - sparse_categorical_accuracy: 0.73 - ETA: 24s - loss: 0.8076 - sparse_categorical_accuracy: 0.73 - ETA: 24s - loss: 0.7976 - sparse_categorical_accuracy: 0.74 - ETA: 25s - loss: 0.7952 - sparse_categorical_accuracy: 0.74 - ETA: 24s - loss: 0.7856 - sparse_categorical_accuracy: 0.74 - ETA: 24s - loss: 0.7765 - sparse_categorical_accuracy: 0.74 - ETA: 24s - loss: 0.7676 - sparse_categorical_accuracy: 0.75 - ETA: 24s - loss: 0.7591 - sparse_categorical_accuracy: 0.75 - ETA: 24s - loss: 0.7508 - sparse_categorical_accuracy: 0.75 - ETA: 24s - loss: 0.7428 - sparse_categorical_accuracy: 0.75 - ETA: 24s - loss: 0.7350 - sparse_categorical_accuracy: 0.76 - ETA: 24s - loss: 0.7275 - sparse_categorical_accuracy: 0.76 - ETA: 24s - loss: 0.7202 - sparse_categorical_accuracy: 0.76 - ETA: 24s - loss: 0.7131 - sparse_categorical_accuracy: 0.76 - ETA: 24s - loss: 0.7063 - sparse_categorical_accuracy: 0.77 - ETA: 24s - loss: 0.6996 - sparse_categorical_accuracy: 0.77 - ETA: 24s - loss: 0.6931 - sparse_categorical_accuracy: 0.77 - ETA: 24s - loss: 0.6868 - sparse_categorical_accuracy: 0.77 - ETA: 23s - loss: 0.6806 - sparse_categorical_accuracy: 0.78 - ETA: 23s - loss: 0.6747 - sparse_categorical_accuracy: 0.78 - ETA: 23s - loss: 0.6688 - sparse_categorical_accuracy: 0.78 - ETA: 23s - loss: 0.6631 - sparse_categorical_accuracy: 0.78 - ETA: 23s - loss: 0.6576 - sparse_categorical_accuracy: 0.78 - ETA: 23s - loss: 0.6521 - sparse_categorical_accuracy: 0.78 - ETA: 23s - loss: 0.6468 - sparse_categorical_accuracy: 0.79 - ETA: 23s - loss: 0.6417 - sparse_categorical_accuracy: 0.79 - ETA: 23s - loss: 0.6366 - sparse_categorical_accuracy: 0.79 - ETA: 23s - loss: 0.6316 - sparse_categorical_accuracy: 0.79 - ETA: 23s - loss: 0.6268 - sparse_categorical_accuracy: 0.79 - ETA: 23s - loss: 0.6220 - sparse_categorical_accuracy: 0.79 - ETA: 23s - loss: 0.6174 - sparse_categorical_accuracy: 0.80 - ETA: 23s - loss: 0.6129 - sparse_categorical_accuracy: 0.80 - ETA: 23s - loss: 0.6084 - sparse_categorical_accuracy: 0.80 - ETA: 23s - loss: 0.6040 - sparse_categorical_accuracy: 0.80 - ETA: 23s - loss: 0.5998 - sparse_categorical_accuracy: 0.80 - ETA: 22s - loss: 0.5956 - sparse_categorical_accuracy: 0.80 - ETA: 22s - loss: 0.5916 - sparse_categorical_accuracy: 0.80 - ETA: 22s - loss: 0.5876 - sparse_categorical_accuracy: 0.81 - ETA: 22s - loss: 0.5837 - sparse_categorical_accuracy: 0.81 - ETA: 22s - loss: 0.5798 - sparse_categorical_accuracy: 0.81 - ETA: 22s - loss: 0.5761 - sparse_categorical_accuracy: 0.81 - ETA: 22s - loss: 0.5724 - sparse_categorical_accuracy: 0.81 - ETA: 22s - loss: 0.5688 - sparse_categorical_accuracy: 0.81 - ETA: 22s - loss: 0.5653 - sparse_categorical_accuracy: 0.81 - ETA: 22s - loss: 0.5618 - sparse_categorical_accuracy: 0.81 - ETA: 22s - loss: 0.5584 - sparse_categorical_accuracy: 0.82 - ETA: 22s - loss: 0.5551 - sparse_categorical_accuracy: 0.82 - ETA: 22s - loss: 0.5518 - sparse_categorical_accuracy: 0.82 - ETA: 22s - loss: 0.5486 - sparse_categorical_accuracy: 0.82 - ETA: 22s - loss: 0.5463 - sparse_categorical_accuracy: 0.82 - ETA: 22s - loss: 0.5432 - sparse_categorical_accuracy: 0.82 - ETA: 22s - loss: 0.5401 - sparse_categorical_accuracy: 0.82 - ETA: 21s - loss: 0.5371 - sparse_categorical_accuracy: 0.82 - ETA: 21s - loss: 0.5342 - sparse_categorical_accuracy: 0.82 - ETA: 21s - loss: 0.5313 - sparse_categorical_accuracy: 0.82 - ETA: 21s - loss: 0.5284 - sparse_categorical_accuracy: 0.83 - ETA: 21s - loss: 0.5256 - sparse_categorical_accuracy: 0.83 - ETA: 21s - loss: 0.5229 - sparse_categorical_accuracy: 0.83 - ETA: 21s - loss: 0.5208 - sparse_categorical_accuracy: 0.83 - ETA: 21s - loss: 0.5182 - sparse_categorical_accuracy: 0.83 - ETA: 21s - loss: 0.5156 - sparse_categorical_accuracy: 0.83 - ETA: 21s - loss: 0.5130 - sparse_categorical_accuracy: 0.83 - ETA: 21s - loss: 0.5105 - sparse_categorical_accuracy: 0.83 - ETA: 21s - loss: 0.5080 - sparse_categorical_accuracy: 0.83 - ETA: 21s - loss: 0.5055 - sparse_categorical_accuracy: 0.83 - ETA: 21s - loss: 0.5031 - sparse_categorical_accuracy: 0.83 - ETA: 21s - loss: 0.5008 - sparse_categorical_accuracy: 0.83 - ETA: 21s - loss: 0.4984 - sparse_categorical_accuracy: 0.84 - ETA: 21s - loss: 0.4962 - sparse_categorical_accuracy: 0.84 - ETA: 20s - loss: 0.4939 - sparse_categorical_accuracy: 0.84 - ETA: 20s - loss: 0.4917 - sparse_categorical_accuracy: 0.84 - ETA: 20s - loss: 0.4895 - sparse_categorical_accuracy: 0.84 - ETA: 20s - loss: 0.4874 - sparse_categorical_accuracy: 0.84 - ETA: 20s - loss: 0.4858 - sparse_categorical_accuracy: 0.84 - ETA: 20s - loss: 0.4836 - sparse_categorical_accuracy: 0.84 - ETA: 20s - loss: 0.4816 - sparse_categorical_accuracy: 0.84 - ETA: 20s - loss: 0.4795 - sparse_categorical_accuracy: 0.84 - ETA: 20s - loss: 0.4775 - sparse_categorical_accuracy: 0.84 - ETA: 20s - loss: 0.4755 - sparse_categorical_accuracy: 0.84 - ETA: 20s - loss: 0.4735 - sparse_categorical_accuracy: 0.84 - ETA: 20s - loss: 0.4715 - sparse_categorical_accuracy: 0.84 - ETA: 20s - loss: 0.4696 - sparse_categorical_accuracy: 0.84 - ETA: 20s - loss: 0.4677 - sparse_categorical_accuracy: 0.85 - ETA: 20s - loss: 0.4658 - sparse_categorical_accuracy: 0.85 - ETA: 20s - loss: 0.4640 - sparse_categorical_accuracy: 0.85 - ETA: 20s - loss: 0.4621 - sparse_categorical_accuracy: 0.85 - ETA: 19s - loss: 0.4603 - sparse_categorical_accuracy: 0.85 - ETA: 20s - loss: 0.4590 - sparse_categorical_accuracy: 0.85 - ETA: 19s - loss: 0.4572 - sparse_categorical_accuracy: 0.85 - ETA: 19s - loss: 0.4555 - sparse_categorical_accuracy: 0.85 - ETA: 19s - loss: 0.4542 - sparse_categorical_accuracy: 0.85 - ETA: 19s - loss: 0.4525 - sparse_categorical_accuracy: 0.85 - ETA: 19s - loss: 0.4508 - sparse_categorical_accuracy: 0.85 - ETA: 19s - loss: 0.4491 - sparse_categorical_accuracy: 0.85 - ETA: 19s - loss: 0.4475 - sparse_categorical_accuracy: 0.85 - ETA: 19s - loss: 0.4459 - sparse_categorical_accuracy: 0.85 - ETA: 19s - loss: 0.4443 - sparse_categorical_accuracy: 0.85 - ETA: 19s - loss: 0.4427 - sparse_categorical_accuracy: 0.85 - ETA: 19s - loss: 0.4412 - sparse_categorical_accuracy: 0.85 - ETA: 19s - loss: 0.4396 - sparse_categorical_accuracy: 0.85 - ETA: 19s - loss: 0.4381 - sparse_categorical_accuracy: 0.86 - ETA: 19s - loss: 0.4366 - sparse_categorical_accuracy: 0.86 - ETA: 19s - loss: 0.4351 - sparse_categorical_accuracy: 0.86 - ETA: 19s - loss: 0.4337 - sparse_categorical_accuracy: 0.86 - ETA: 19s - loss: 0.4322 - sparse_categorical_accuracy: 0.86 - ETA: 18s - loss: 0.4308 - sparse_categorical_accuracy: 0.86 - ETA: 18s - loss: 0.4297 - sparse_categorical_accuracy: 0.86 - ETA: 18s - loss: 0.4283 - sparse_categorical_accuracy: 0.86 - ETA: 18s - loss: 0.4269 - sparse_categorical_accuracy: 0.86 - ETA: 18s - loss: 0.4255 - sparse_categorical_accuracy: 0.86 - ETA: 18s - loss: 0.4242 - sparse_categorical_accuracy: 0.86 - ETA: 18s - loss: 0.4228 - sparse_categorical_accuracy: 0.86 - ETA: 18s - loss: 0.4215 - sparse_categorical_accuracy: 0.86 - ETA: 18s - loss: 0.4202 - sparse_categorical_accuracy: 0.86 - ETA: 18s - loss: 0.4189 - sparse_categorical_accuracy: 0.86 - ETA: 18s - loss: 0.4176 - sparse_categorical_accuracy: 0.86 - ETA: 18s - loss: 0.4163 - sparse_categorical_accuracy: 0.86 - ETA: 18s - loss: 0.4150 - sparse_categorical_accuracy: 0.86 - ETA: 18s - loss: 0.4138 - sparse_categorical_accuracy: 0.86 - ETA: 18s - loss: 0.4125 - sparse_categorical_accuracy: 0.86 - ETA: 18s - loss: 0.4116 - sparse_categorical_accuracy: 0.86 - ETA: 18s - loss: 0.4104 - sparse_categorical_accuracy: 0.86 - ETA: 18s - loss: 0.4092 - sparse_categorical_accuracy: 0.87 - ETA: 17s - loss: 0.4080 - sparse_categorical_accuracy: 0.87 - ETA: 17s - loss: 0.4068 - sparse_categorical_accuracy: 0.87 - ETA: 17s - loss: 0.4056 - sparse_categorical_accuracy: 0.87 - ETA: 17s - loss: 0.4044 - sparse_categorical_accuracy: 0.87 - ETA: 17s - loss: 0.4033 - sparse_categorical_accuracy: 0.87 - ETA: 17s - loss: 0.4021 - sparse_categorical_accuracy: 0.87 - ETA: 17s - loss: 0.4012 - sparse_categorical_accuracy: 0.87 - ETA: 17s - loss: 0.4001 - sparse_categorical_accuracy: 0.87 - ETA: 17s - loss: 0.3990 - sparse_categorical_accuracy: 0.87 - ETA: 17s - loss: 0.3979 - sparse_categorical_accuracy: 0.87 - ETA: 17s - loss: 0.3968 - sparse_categorical_accuracy: 0.87 - ETA: 17s - loss: 0.3957 - sparse_categorical_accuracy: 0.87 - ETA: 17s - loss: 0.3946 - sparse_categorical_accuracy: 0.87 - ETA: 17s - loss: 0.3935 - sparse_categorical_accuracy: 0.87 - ETA: 17s - loss: 0.3924 - sparse_categorical_accuracy: 0.87 - ETA: 17s - loss: 0.3914 - sparse_categorical_accuracy: 0.87 - ETA: 17s - loss: 0.3903 - sparse_categorical_accuracy: 0.87 - ETA: 17s - loss: 0.3893 - sparse_categorical_accuracy: 0.87 - ETA: 16s - loss: 0.3882 - sparse_categorical_accuracy: 0.87 - ETA: 16s - loss: 0.3872 - sparse_categorical_accuracy: 0.87 - ETA: 16s - loss: 0.3862 - sparse_categorical_accuracy: 0.87 - ETA: 16s - loss: 0.3852 - sparse_categorical_accuracy: 0.87 - ETA: 16s - loss: 0.3842 - sparse_categorical_accuracy: 0.87 - ETA: 16s - loss: 0.3832 - sparse_categorical_accuracy: 0.87 - ETA: 16s - loss: 0.3822 - sparse_categorical_accuracy: 0.8789"
     ]
    },
    {
     "ename": "KeyboardInterrupt",
     "evalue": "",
     "output_type": "error",
     "traceback": [
      "\u001b[1;31m---------------------------------------------------------------------------\u001b[0m",
      "\u001b[1;31mKeyboardInterrupt\u001b[0m                         Traceback (most recent call last)",
      "\u001b[1;32m<ipython-input-2-73ef1a4e1c16>\u001b[0m in \u001b[0;36m<module>\u001b[1;34m\u001b[0m\n\u001b[0;32m     19\u001b[0m     \u001b[0mmetrics\u001b[0m\u001b[1;33m=\u001b[0m\u001b[1;33m[\u001b[0m\u001b[0mkeras\u001b[0m\u001b[1;33m.\u001b[0m\u001b[0mmetrics\u001b[0m\u001b[1;33m.\u001b[0m\u001b[0mSparseCategoricalAccuracy\u001b[0m\u001b[1;33m(\u001b[0m\u001b[1;33m)\u001b[0m\u001b[1;33m]\u001b[0m\u001b[1;33m,\u001b[0m\u001b[1;33m\u001b[0m\u001b[1;33m\u001b[0m\u001b[0m\n\u001b[0;32m     20\u001b[0m )\n\u001b[1;32m---> 21\u001b[1;33m \u001b[0mteacher_history\u001b[0m \u001b[1;33m=\u001b[0m \u001b[0mteacher\u001b[0m\u001b[1;33m.\u001b[0m\u001b[0mfit\u001b[0m\u001b[1;33m(\u001b[0m\u001b[0mx_train\u001b[0m\u001b[1;33m,\u001b[0m \u001b[0my_train\u001b[0m\u001b[1;33m,\u001b[0m \u001b[0mepochs\u001b[0m\u001b[1;33m=\u001b[0m\u001b[1;36m5\u001b[0m\u001b[1;33m)\u001b[0m\u001b[1;33m\u001b[0m\u001b[1;33m\u001b[0m\u001b[0m\n\u001b[0m\u001b[0;32m     22\u001b[0m \u001b[0mteacher\u001b[0m\u001b[1;33m.\u001b[0m\u001b[0mevaluate\u001b[0m\u001b[1;33m(\u001b[0m\u001b[0mx_test\u001b[0m\u001b[1;33m,\u001b[0m \u001b[0my_test\u001b[0m\u001b[1;33m)\u001b[0m\u001b[1;33m\u001b[0m\u001b[1;33m\u001b[0m\u001b[0m\n\u001b[0;32m     23\u001b[0m \u001b[1;31m# LOGGER.info(\"End train and test teacher model.\")\u001b[0m\u001b[1;33m\u001b[0m\u001b[1;33m\u001b[0m\u001b[1;33m\u001b[0m\u001b[0m\n",
      "\u001b[1;32mD:\\miniconda\\envs\\tensorflow-gpu-pip\\lib\\site-packages\\tensorflow\\python\\keras\\engine\\training.py\u001b[0m in \u001b[0;36mfit\u001b[1;34m(self, x, y, batch_size, epochs, verbose, callbacks, validation_split, validation_data, shuffle, class_weight, sample_weight, initial_epoch, steps_per_epoch, validation_steps, validation_batch_size, validation_freq, max_queue_size, workers, use_multiprocessing)\u001b[0m\n\u001b[0;32m   1103\u001b[0m               \u001b[0mlogs\u001b[0m \u001b[1;33m=\u001b[0m \u001b[0mtmp_logs\u001b[0m  \u001b[1;31m# No error, now safe to assign to logs.\u001b[0m\u001b[1;33m\u001b[0m\u001b[1;33m\u001b[0m\u001b[0m\n\u001b[0;32m   1104\u001b[0m               \u001b[0mend_step\u001b[0m \u001b[1;33m=\u001b[0m \u001b[0mstep\u001b[0m \u001b[1;33m+\u001b[0m \u001b[0mdata_handler\u001b[0m\u001b[1;33m.\u001b[0m\u001b[0mstep_increment\u001b[0m\u001b[1;33m\u001b[0m\u001b[1;33m\u001b[0m\u001b[0m\n\u001b[1;32m-> 1105\u001b[1;33m               \u001b[0mcallbacks\u001b[0m\u001b[1;33m.\u001b[0m\u001b[0mon_train_batch_end\u001b[0m\u001b[1;33m(\u001b[0m\u001b[0mend_step\u001b[0m\u001b[1;33m,\u001b[0m \u001b[0mlogs\u001b[0m\u001b[1;33m)\u001b[0m\u001b[1;33m\u001b[0m\u001b[1;33m\u001b[0m\u001b[0m\n\u001b[0m\u001b[0;32m   1106\u001b[0m               \u001b[1;32mif\u001b[0m \u001b[0mself\u001b[0m\u001b[1;33m.\u001b[0m\u001b[0mstop_training\u001b[0m\u001b[1;33m:\u001b[0m\u001b[1;33m\u001b[0m\u001b[1;33m\u001b[0m\u001b[0m\n\u001b[0;32m   1107\u001b[0m                 \u001b[1;32mbreak\u001b[0m\u001b[1;33m\u001b[0m\u001b[1;33m\u001b[0m\u001b[0m\n",
      "\u001b[1;32mD:\\miniconda\\envs\\tensorflow-gpu-pip\\lib\\site-packages\\tensorflow\\python\\keras\\callbacks.py\u001b[0m in \u001b[0;36mon_train_batch_end\u001b[1;34m(self, batch, logs)\u001b[0m\n\u001b[0;32m    452\u001b[0m     \"\"\"\n\u001b[0;32m    453\u001b[0m     \u001b[1;32mif\u001b[0m \u001b[0mself\u001b[0m\u001b[1;33m.\u001b[0m\u001b[0m_should_call_train_batch_hooks\u001b[0m\u001b[1;33m:\u001b[0m\u001b[1;33m\u001b[0m\u001b[1;33m\u001b[0m\u001b[0m\n\u001b[1;32m--> 454\u001b[1;33m       \u001b[0mself\u001b[0m\u001b[1;33m.\u001b[0m\u001b[0m_call_batch_hook\u001b[0m\u001b[1;33m(\u001b[0m\u001b[0mModeKeys\u001b[0m\u001b[1;33m.\u001b[0m\u001b[0mTRAIN\u001b[0m\u001b[1;33m,\u001b[0m \u001b[1;34m'end'\u001b[0m\u001b[1;33m,\u001b[0m \u001b[0mbatch\u001b[0m\u001b[1;33m,\u001b[0m \u001b[0mlogs\u001b[0m\u001b[1;33m=\u001b[0m\u001b[0mlogs\u001b[0m\u001b[1;33m)\u001b[0m\u001b[1;33m\u001b[0m\u001b[1;33m\u001b[0m\u001b[0m\n\u001b[0m\u001b[0;32m    455\u001b[0m \u001b[1;33m\u001b[0m\u001b[0m\n\u001b[0;32m    456\u001b[0m   \u001b[1;32mdef\u001b[0m \u001b[0mon_test_batch_begin\u001b[0m\u001b[1;33m(\u001b[0m\u001b[0mself\u001b[0m\u001b[1;33m,\u001b[0m \u001b[0mbatch\u001b[0m\u001b[1;33m,\u001b[0m \u001b[0mlogs\u001b[0m\u001b[1;33m=\u001b[0m\u001b[1;32mNone\u001b[0m\u001b[1;33m)\u001b[0m\u001b[1;33m:\u001b[0m\u001b[1;33m\u001b[0m\u001b[1;33m\u001b[0m\u001b[0m\n",
      "\u001b[1;32mD:\\miniconda\\envs\\tensorflow-gpu-pip\\lib\\site-packages\\tensorflow\\python\\keras\\callbacks.py\u001b[0m in \u001b[0;36m_call_batch_hook\u001b[1;34m(self, mode, hook, batch, logs)\u001b[0m\n\u001b[0;32m    294\u001b[0m       \u001b[0mself\u001b[0m\u001b[1;33m.\u001b[0m\u001b[0m_call_batch_begin_hook\u001b[0m\u001b[1;33m(\u001b[0m\u001b[0mmode\u001b[0m\u001b[1;33m,\u001b[0m \u001b[0mbatch\u001b[0m\u001b[1;33m,\u001b[0m \u001b[0mlogs\u001b[0m\u001b[1;33m)\u001b[0m\u001b[1;33m\u001b[0m\u001b[1;33m\u001b[0m\u001b[0m\n\u001b[0;32m    295\u001b[0m     \u001b[1;32melif\u001b[0m \u001b[0mhook\u001b[0m \u001b[1;33m==\u001b[0m \u001b[1;34m'end'\u001b[0m\u001b[1;33m:\u001b[0m\u001b[1;33m\u001b[0m\u001b[1;33m\u001b[0m\u001b[0m\n\u001b[1;32m--> 296\u001b[1;33m       \u001b[0mself\u001b[0m\u001b[1;33m.\u001b[0m\u001b[0m_call_batch_end_hook\u001b[0m\u001b[1;33m(\u001b[0m\u001b[0mmode\u001b[0m\u001b[1;33m,\u001b[0m \u001b[0mbatch\u001b[0m\u001b[1;33m,\u001b[0m \u001b[0mlogs\u001b[0m\u001b[1;33m)\u001b[0m\u001b[1;33m\u001b[0m\u001b[1;33m\u001b[0m\u001b[0m\n\u001b[0m\u001b[0;32m    297\u001b[0m     \u001b[1;32melse\u001b[0m\u001b[1;33m:\u001b[0m\u001b[1;33m\u001b[0m\u001b[1;33m\u001b[0m\u001b[0m\n\u001b[0;32m    298\u001b[0m       \u001b[1;32mraise\u001b[0m \u001b[0mValueError\u001b[0m\u001b[1;33m(\u001b[0m\u001b[1;34m'Unrecognized hook: {}'\u001b[0m\u001b[1;33m.\u001b[0m\u001b[0mformat\u001b[0m\u001b[1;33m(\u001b[0m\u001b[0mhook\u001b[0m\u001b[1;33m)\u001b[0m\u001b[1;33m)\u001b[0m\u001b[1;33m\u001b[0m\u001b[1;33m\u001b[0m\u001b[0m\n",
      "\u001b[1;32mD:\\miniconda\\envs\\tensorflow-gpu-pip\\lib\\site-packages\\tensorflow\\python\\keras\\callbacks.py\u001b[0m in \u001b[0;36m_call_batch_end_hook\u001b[1;34m(self, mode, batch, logs)\u001b[0m\n\u001b[0;32m    314\u001b[0m       \u001b[0mself\u001b[0m\u001b[1;33m.\u001b[0m\u001b[0m_batch_times\u001b[0m\u001b[1;33m.\u001b[0m\u001b[0mappend\u001b[0m\u001b[1;33m(\u001b[0m\u001b[0mbatch_time\u001b[0m\u001b[1;33m)\u001b[0m\u001b[1;33m\u001b[0m\u001b[1;33m\u001b[0m\u001b[0m\n\u001b[0;32m    315\u001b[0m \u001b[1;33m\u001b[0m\u001b[0m\n\u001b[1;32m--> 316\u001b[1;33m     \u001b[0mself\u001b[0m\u001b[1;33m.\u001b[0m\u001b[0m_call_batch_hook_helper\u001b[0m\u001b[1;33m(\u001b[0m\u001b[0mhook_name\u001b[0m\u001b[1;33m,\u001b[0m \u001b[0mbatch\u001b[0m\u001b[1;33m,\u001b[0m \u001b[0mlogs\u001b[0m\u001b[1;33m)\u001b[0m\u001b[1;33m\u001b[0m\u001b[1;33m\u001b[0m\u001b[0m\n\u001b[0m\u001b[0;32m    317\u001b[0m \u001b[1;33m\u001b[0m\u001b[0m\n\u001b[0;32m    318\u001b[0m     \u001b[1;32mif\u001b[0m \u001b[0mlen\u001b[0m\u001b[1;33m(\u001b[0m\u001b[0mself\u001b[0m\u001b[1;33m.\u001b[0m\u001b[0m_batch_times\u001b[0m\u001b[1;33m)\u001b[0m \u001b[1;33m>=\u001b[0m \u001b[0mself\u001b[0m\u001b[1;33m.\u001b[0m\u001b[0m_num_batches_for_timing_check\u001b[0m\u001b[1;33m:\u001b[0m\u001b[1;33m\u001b[0m\u001b[1;33m\u001b[0m\u001b[0m\n",
      "\u001b[1;32mD:\\miniconda\\envs\\tensorflow-gpu-pip\\lib\\site-packages\\tensorflow\\python\\keras\\callbacks.py\u001b[0m in \u001b[0;36m_call_batch_hook_helper\u001b[1;34m(self, hook_name, batch, logs)\u001b[0m\n\u001b[0;32m    354\u001b[0m       \u001b[0mhook\u001b[0m \u001b[1;33m=\u001b[0m \u001b[0mgetattr\u001b[0m\u001b[1;33m(\u001b[0m\u001b[0mcallback\u001b[0m\u001b[1;33m,\u001b[0m \u001b[0mhook_name\u001b[0m\u001b[1;33m)\u001b[0m\u001b[1;33m\u001b[0m\u001b[1;33m\u001b[0m\u001b[0m\n\u001b[0;32m    355\u001b[0m       \u001b[1;32mif\u001b[0m \u001b[0mgetattr\u001b[0m\u001b[1;33m(\u001b[0m\u001b[0mcallback\u001b[0m\u001b[1;33m,\u001b[0m \u001b[1;34m'_supports_tf_logs'\u001b[0m\u001b[1;33m,\u001b[0m \u001b[1;32mFalse\u001b[0m\u001b[1;33m)\u001b[0m\u001b[1;33m:\u001b[0m\u001b[1;33m\u001b[0m\u001b[1;33m\u001b[0m\u001b[0m\n\u001b[1;32m--> 356\u001b[1;33m         \u001b[0mhook\u001b[0m\u001b[1;33m(\u001b[0m\u001b[0mbatch\u001b[0m\u001b[1;33m,\u001b[0m \u001b[0mlogs\u001b[0m\u001b[1;33m)\u001b[0m\u001b[1;33m\u001b[0m\u001b[1;33m\u001b[0m\u001b[0m\n\u001b[0m\u001b[0;32m    357\u001b[0m       \u001b[1;32melse\u001b[0m\u001b[1;33m:\u001b[0m\u001b[1;33m\u001b[0m\u001b[1;33m\u001b[0m\u001b[0m\n\u001b[0;32m    358\u001b[0m         \u001b[1;32mif\u001b[0m \u001b[0mnumpy_logs\u001b[0m \u001b[1;32mis\u001b[0m \u001b[1;32mNone\u001b[0m\u001b[1;33m:\u001b[0m  \u001b[1;31m# Only convert once.\u001b[0m\u001b[1;33m\u001b[0m\u001b[1;33m\u001b[0m\u001b[0m\n",
      "\u001b[1;32mD:\\miniconda\\envs\\tensorflow-gpu-pip\\lib\\site-packages\\tensorflow\\python\\keras\\callbacks.py\u001b[0m in \u001b[0;36mon_train_batch_end\u001b[1;34m(self, batch, logs)\u001b[0m\n\u001b[0;32m   1018\u001b[0m \u001b[1;33m\u001b[0m\u001b[0m\n\u001b[0;32m   1019\u001b[0m   \u001b[1;32mdef\u001b[0m \u001b[0mon_train_batch_end\u001b[0m\u001b[1;33m(\u001b[0m\u001b[0mself\u001b[0m\u001b[1;33m,\u001b[0m \u001b[0mbatch\u001b[0m\u001b[1;33m,\u001b[0m \u001b[0mlogs\u001b[0m\u001b[1;33m=\u001b[0m\u001b[1;32mNone\u001b[0m\u001b[1;33m)\u001b[0m\u001b[1;33m:\u001b[0m\u001b[1;33m\u001b[0m\u001b[1;33m\u001b[0m\u001b[0m\n\u001b[1;32m-> 1020\u001b[1;33m     \u001b[0mself\u001b[0m\u001b[1;33m.\u001b[0m\u001b[0m_batch_update_progbar\u001b[0m\u001b[1;33m(\u001b[0m\u001b[0mbatch\u001b[0m\u001b[1;33m,\u001b[0m \u001b[0mlogs\u001b[0m\u001b[1;33m)\u001b[0m\u001b[1;33m\u001b[0m\u001b[1;33m\u001b[0m\u001b[0m\n\u001b[0m\u001b[0;32m   1021\u001b[0m \u001b[1;33m\u001b[0m\u001b[0m\n\u001b[0;32m   1022\u001b[0m   \u001b[1;32mdef\u001b[0m \u001b[0mon_test_batch_end\u001b[0m\u001b[1;33m(\u001b[0m\u001b[0mself\u001b[0m\u001b[1;33m,\u001b[0m \u001b[0mbatch\u001b[0m\u001b[1;33m,\u001b[0m \u001b[0mlogs\u001b[0m\u001b[1;33m=\u001b[0m\u001b[1;32mNone\u001b[0m\u001b[1;33m)\u001b[0m\u001b[1;33m:\u001b[0m\u001b[1;33m\u001b[0m\u001b[1;33m\u001b[0m\u001b[0m\n",
      "\u001b[1;32mD:\\miniconda\\envs\\tensorflow-gpu-pip\\lib\\site-packages\\tensorflow\\python\\keras\\callbacks.py\u001b[0m in \u001b[0;36m_batch_update_progbar\u001b[1;34m(self, batch, logs)\u001b[0m\n\u001b[0;32m   1082\u001b[0m     \u001b[1;32mif\u001b[0m \u001b[0mself\u001b[0m\u001b[1;33m.\u001b[0m\u001b[0mverbose\u001b[0m \u001b[1;33m==\u001b[0m \u001b[1;36m1\u001b[0m\u001b[1;33m:\u001b[0m\u001b[1;33m\u001b[0m\u001b[1;33m\u001b[0m\u001b[0m\n\u001b[0;32m   1083\u001b[0m       \u001b[1;31m# Only block async when verbose = 1.\u001b[0m\u001b[1;33m\u001b[0m\u001b[1;33m\u001b[0m\u001b[1;33m\u001b[0m\u001b[0m\n\u001b[1;32m-> 1084\u001b[1;33m       \u001b[0mlogs\u001b[0m \u001b[1;33m=\u001b[0m \u001b[0mtf_utils\u001b[0m\u001b[1;33m.\u001b[0m\u001b[0mto_numpy_or_python_type\u001b[0m\u001b[1;33m(\u001b[0m\u001b[0mlogs\u001b[0m\u001b[1;33m)\u001b[0m\u001b[1;33m\u001b[0m\u001b[1;33m\u001b[0m\u001b[0m\n\u001b[0m\u001b[0;32m   1085\u001b[0m       \u001b[0mself\u001b[0m\u001b[1;33m.\u001b[0m\u001b[0mprogbar\u001b[0m\u001b[1;33m.\u001b[0m\u001b[0mupdate\u001b[0m\u001b[1;33m(\u001b[0m\u001b[0mself\u001b[0m\u001b[1;33m.\u001b[0m\u001b[0mseen\u001b[0m\u001b[1;33m,\u001b[0m \u001b[0mlist\u001b[0m\u001b[1;33m(\u001b[0m\u001b[0mlogs\u001b[0m\u001b[1;33m.\u001b[0m\u001b[0mitems\u001b[0m\u001b[1;33m(\u001b[0m\u001b[1;33m)\u001b[0m\u001b[1;33m)\u001b[0m\u001b[1;33m,\u001b[0m \u001b[0mfinalize\u001b[0m\u001b[1;33m=\u001b[0m\u001b[1;32mFalse\u001b[0m\u001b[1;33m)\u001b[0m\u001b[1;33m\u001b[0m\u001b[1;33m\u001b[0m\u001b[0m\n\u001b[0;32m   1086\u001b[0m \u001b[1;33m\u001b[0m\u001b[0m\n",
      "\u001b[1;32mD:\\miniconda\\envs\\tensorflow-gpu-pip\\lib\\site-packages\\tensorflow\\python\\keras\\utils\\tf_utils.py\u001b[0m in \u001b[0;36mto_numpy_or_python_type\u001b[1;34m(tensors)\u001b[0m\n\u001b[0;32m    512\u001b[0m     \u001b[1;32mreturn\u001b[0m \u001b[0mt\u001b[0m  \u001b[1;31m# Don't turn ragged or sparse tensors to NumPy.\u001b[0m\u001b[1;33m\u001b[0m\u001b[1;33m\u001b[0m\u001b[0m\n\u001b[0;32m    513\u001b[0m \u001b[1;33m\u001b[0m\u001b[0m\n\u001b[1;32m--> 514\u001b[1;33m   \u001b[1;32mreturn\u001b[0m \u001b[0mnest\u001b[0m\u001b[1;33m.\u001b[0m\u001b[0mmap_structure\u001b[0m\u001b[1;33m(\u001b[0m\u001b[0m_to_single_numpy_or_python_type\u001b[0m\u001b[1;33m,\u001b[0m \u001b[0mtensors\u001b[0m\u001b[1;33m)\u001b[0m\u001b[1;33m\u001b[0m\u001b[1;33m\u001b[0m\u001b[0m\n\u001b[0m\u001b[0;32m    515\u001b[0m \u001b[1;33m\u001b[0m\u001b[0m\n\u001b[0;32m    516\u001b[0m \u001b[1;33m\u001b[0m\u001b[0m\n",
      "\u001b[1;32mD:\\miniconda\\envs\\tensorflow-gpu-pip\\lib\\site-packages\\tensorflow\\python\\util\\nest.py\u001b[0m in \u001b[0;36mmap_structure\u001b[1;34m(func, *structure, **kwargs)\u001b[0m\n\u001b[0;32m    657\u001b[0m \u001b[1;33m\u001b[0m\u001b[0m\n\u001b[0;32m    658\u001b[0m   return pack_sequence_as(\n\u001b[1;32m--> 659\u001b[1;33m       \u001b[0mstructure\u001b[0m\u001b[1;33m[\u001b[0m\u001b[1;36m0\u001b[0m\u001b[1;33m]\u001b[0m\u001b[1;33m,\u001b[0m \u001b[1;33m[\u001b[0m\u001b[0mfunc\u001b[0m\u001b[1;33m(\u001b[0m\u001b[1;33m*\u001b[0m\u001b[0mx\u001b[0m\u001b[1;33m)\u001b[0m \u001b[1;32mfor\u001b[0m \u001b[0mx\u001b[0m \u001b[1;32min\u001b[0m \u001b[0mentries\u001b[0m\u001b[1;33m]\u001b[0m\u001b[1;33m,\u001b[0m\u001b[1;33m\u001b[0m\u001b[1;33m\u001b[0m\u001b[0m\n\u001b[0m\u001b[0;32m    660\u001b[0m       expand_composites=expand_composites)\n\u001b[0;32m    661\u001b[0m \u001b[1;33m\u001b[0m\u001b[0m\n",
      "\u001b[1;32mD:\\miniconda\\envs\\tensorflow-gpu-pip\\lib\\site-packages\\tensorflow\\python\\util\\nest.py\u001b[0m in \u001b[0;36m<listcomp>\u001b[1;34m(.0)\u001b[0m\n\u001b[0;32m    657\u001b[0m \u001b[1;33m\u001b[0m\u001b[0m\n\u001b[0;32m    658\u001b[0m   return pack_sequence_as(\n\u001b[1;32m--> 659\u001b[1;33m       \u001b[0mstructure\u001b[0m\u001b[1;33m[\u001b[0m\u001b[1;36m0\u001b[0m\u001b[1;33m]\u001b[0m\u001b[1;33m,\u001b[0m \u001b[1;33m[\u001b[0m\u001b[0mfunc\u001b[0m\u001b[1;33m(\u001b[0m\u001b[1;33m*\u001b[0m\u001b[0mx\u001b[0m\u001b[1;33m)\u001b[0m \u001b[1;32mfor\u001b[0m \u001b[0mx\u001b[0m \u001b[1;32min\u001b[0m \u001b[0mentries\u001b[0m\u001b[1;33m]\u001b[0m\u001b[1;33m,\u001b[0m\u001b[1;33m\u001b[0m\u001b[1;33m\u001b[0m\u001b[0m\n\u001b[0m\u001b[0;32m    660\u001b[0m       expand_composites=expand_composites)\n\u001b[0;32m    661\u001b[0m \u001b[1;33m\u001b[0m\u001b[0m\n",
      "\u001b[1;32mD:\\miniconda\\envs\\tensorflow-gpu-pip\\lib\\site-packages\\tensorflow\\python\\keras\\utils\\tf_utils.py\u001b[0m in \u001b[0;36m_to_single_numpy_or_python_type\u001b[1;34m(t)\u001b[0m\n\u001b[0;32m    508\u001b[0m   \u001b[1;32mdef\u001b[0m \u001b[0m_to_single_numpy_or_python_type\u001b[0m\u001b[1;33m(\u001b[0m\u001b[0mt\u001b[0m\u001b[1;33m)\u001b[0m\u001b[1;33m:\u001b[0m\u001b[1;33m\u001b[0m\u001b[1;33m\u001b[0m\u001b[0m\n\u001b[0;32m    509\u001b[0m     \u001b[1;32mif\u001b[0m \u001b[0misinstance\u001b[0m\u001b[1;33m(\u001b[0m\u001b[0mt\u001b[0m\u001b[1;33m,\u001b[0m \u001b[0mops\u001b[0m\u001b[1;33m.\u001b[0m\u001b[0mTensor\u001b[0m\u001b[1;33m)\u001b[0m\u001b[1;33m:\u001b[0m\u001b[1;33m\u001b[0m\u001b[1;33m\u001b[0m\u001b[0m\n\u001b[1;32m--> 510\u001b[1;33m       \u001b[0mx\u001b[0m \u001b[1;33m=\u001b[0m \u001b[0mt\u001b[0m\u001b[1;33m.\u001b[0m\u001b[0mnumpy\u001b[0m\u001b[1;33m(\u001b[0m\u001b[1;33m)\u001b[0m\u001b[1;33m\u001b[0m\u001b[1;33m\u001b[0m\u001b[0m\n\u001b[0m\u001b[0;32m    511\u001b[0m       \u001b[1;32mreturn\u001b[0m \u001b[0mx\u001b[0m\u001b[1;33m.\u001b[0m\u001b[0mitem\u001b[0m\u001b[1;33m(\u001b[0m\u001b[1;33m)\u001b[0m \u001b[1;32mif\u001b[0m \u001b[0mnp\u001b[0m\u001b[1;33m.\u001b[0m\u001b[0mndim\u001b[0m\u001b[1;33m(\u001b[0m\u001b[0mx\u001b[0m\u001b[1;33m)\u001b[0m \u001b[1;33m==\u001b[0m \u001b[1;36m0\u001b[0m \u001b[1;32melse\u001b[0m \u001b[0mx\u001b[0m\u001b[1;33m\u001b[0m\u001b[1;33m\u001b[0m\u001b[0m\n\u001b[0;32m    512\u001b[0m     \u001b[1;32mreturn\u001b[0m \u001b[0mt\u001b[0m  \u001b[1;31m# Don't turn ragged or sparse tensors to NumPy.\u001b[0m\u001b[1;33m\u001b[0m\u001b[1;33m\u001b[0m\u001b[0m\n",
      "\u001b[1;32mD:\\miniconda\\envs\\tensorflow-gpu-pip\\lib\\site-packages\\tensorflow\\python\\framework\\ops.py\u001b[0m in \u001b[0;36mnumpy\u001b[1;34m(self)\u001b[0m\n\u001b[0;32m   1069\u001b[0m     \"\"\"\n\u001b[0;32m   1070\u001b[0m     \u001b[1;31m# TODO(slebedev): Consider avoiding a copy for non-CPU or remote tensors.\u001b[0m\u001b[1;33m\u001b[0m\u001b[1;33m\u001b[0m\u001b[1;33m\u001b[0m\u001b[0m\n\u001b[1;32m-> 1071\u001b[1;33m     \u001b[0mmaybe_arr\u001b[0m \u001b[1;33m=\u001b[0m \u001b[0mself\u001b[0m\u001b[1;33m.\u001b[0m\u001b[0m_numpy\u001b[0m\u001b[1;33m(\u001b[0m\u001b[1;33m)\u001b[0m  \u001b[1;31m# pylint: disable=protected-access\u001b[0m\u001b[1;33m\u001b[0m\u001b[1;33m\u001b[0m\u001b[0m\n\u001b[0m\u001b[0;32m   1072\u001b[0m     \u001b[1;32mreturn\u001b[0m \u001b[0mmaybe_arr\u001b[0m\u001b[1;33m.\u001b[0m\u001b[0mcopy\u001b[0m\u001b[1;33m(\u001b[0m\u001b[1;33m)\u001b[0m \u001b[1;32mif\u001b[0m \u001b[0misinstance\u001b[0m\u001b[1;33m(\u001b[0m\u001b[0mmaybe_arr\u001b[0m\u001b[1;33m,\u001b[0m \u001b[0mnp\u001b[0m\u001b[1;33m.\u001b[0m\u001b[0mndarray\u001b[0m\u001b[1;33m)\u001b[0m \u001b[1;32melse\u001b[0m \u001b[0mmaybe_arr\u001b[0m\u001b[1;33m\u001b[0m\u001b[1;33m\u001b[0m\u001b[0m\n\u001b[0;32m   1073\u001b[0m \u001b[1;33m\u001b[0m\u001b[0m\n",
      "\u001b[1;32mD:\\miniconda\\envs\\tensorflow-gpu-pip\\lib\\site-packages\\tensorflow\\python\\framework\\ops.py\u001b[0m in \u001b[0;36m_numpy\u001b[1;34m(self)\u001b[0m\n\u001b[0;32m   1035\u001b[0m   \u001b[1;32mdef\u001b[0m \u001b[0m_numpy\u001b[0m\u001b[1;33m(\u001b[0m\u001b[0mself\u001b[0m\u001b[1;33m)\u001b[0m\u001b[1;33m:\u001b[0m\u001b[1;33m\u001b[0m\u001b[1;33m\u001b[0m\u001b[0m\n\u001b[0;32m   1036\u001b[0m     \u001b[1;32mtry\u001b[0m\u001b[1;33m:\u001b[0m\u001b[1;33m\u001b[0m\u001b[1;33m\u001b[0m\u001b[0m\n\u001b[1;32m-> 1037\u001b[1;33m       \u001b[1;32mreturn\u001b[0m \u001b[0mself\u001b[0m\u001b[1;33m.\u001b[0m\u001b[0m_numpy_internal\u001b[0m\u001b[1;33m(\u001b[0m\u001b[1;33m)\u001b[0m\u001b[1;33m\u001b[0m\u001b[1;33m\u001b[0m\u001b[0m\n\u001b[0m\u001b[0;32m   1038\u001b[0m     \u001b[1;32mexcept\u001b[0m \u001b[0mcore\u001b[0m\u001b[1;33m.\u001b[0m\u001b[0m_NotOkStatusException\u001b[0m \u001b[1;32mas\u001b[0m \u001b[0me\u001b[0m\u001b[1;33m:\u001b[0m  \u001b[1;31m# pylint: disable=protected-access\u001b[0m\u001b[1;33m\u001b[0m\u001b[1;33m\u001b[0m\u001b[0m\n\u001b[0;32m   1039\u001b[0m       \u001b[0msix\u001b[0m\u001b[1;33m.\u001b[0m\u001b[0mraise_from\u001b[0m\u001b[1;33m(\u001b[0m\u001b[0mcore\u001b[0m\u001b[1;33m.\u001b[0m\u001b[0m_status_to_exception\u001b[0m\u001b[1;33m(\u001b[0m\u001b[0me\u001b[0m\u001b[1;33m.\u001b[0m\u001b[0mcode\u001b[0m\u001b[1;33m,\u001b[0m \u001b[0me\u001b[0m\u001b[1;33m.\u001b[0m\u001b[0mmessage\u001b[0m\u001b[1;33m)\u001b[0m\u001b[1;33m,\u001b[0m \u001b[1;32mNone\u001b[0m\u001b[1;33m)\u001b[0m  \u001b[1;31m# pylint: disable=protected-access\u001b[0m\u001b[1;33m\u001b[0m\u001b[1;33m\u001b[0m\u001b[0m\n",
      "\u001b[1;31mKeyboardInterrupt\u001b[0m: "
     ]
    }
   ],
   "source": [
    "\n",
    "\n",
    "# LOGGER.info(\"Load and prepare data...\")\n",
    "student_scratch = keras.models.clone_model(student)\n",
    "\n",
    "# Prepare the dataset\n",
    "batch_size = 64\n",
    "(x_train, y_train), (x_test, y_test) = keras.datasets.mnist.load_data()\n",
    "\n",
    "# Normalize data\n",
    "x_train = x_train.astype(\"float32\") / 255.0\n",
    "x_train = np.reshape(x_train, (-1, 28, 28, 1))\n",
    "\n",
    "x_test = x_test.astype(\"float32\") / 255.0\n",
    "x_test = np.reshape(x_test, (-1, 28, 28, 1))\n",
    "\n",
    "# LOGGER.info(\"Train teacher...\")\n",
    "teacher.compile(\n",
    "    optimizer=keras.optimizers.Adam(),\n",
    "    loss=keras.losses.SparseCategoricalCrossentropy(from_logits=True),\n",
    "    metrics=[keras.metrics.SparseCategoricalAccuracy()],\n",
    ")\n",
    "teacher_history = teacher.fit(x_train, y_train, epochs=5)\n",
    "teacher.evaluate(x_test, y_test)\n",
    "# LOGGER.info(\"End train and test teacher model.\")\n",
    "# LOGGER.info(\"Distill the teacher to student\")\n",
    "distiller = Distiller(student=student, teacher=teacher)\n",
    "distiller.compile(\n",
    "    optimizer=keras.optimizers.Adam(),\n",
    "    metrics=[keras.metrics.SparseCategoricalAccuracy()],\n",
    "    student_loss_fn=keras.losses.SparseCategoricalCrossentropy(from_logits=True),\n",
    "    distillation_loss_fn=keras.losses.KLDivergence(),\n",
    "    alpha=0.1,\n",
    "    temperature=10,\n",
    ")\n",
    "\n",
    "# student_distiller_history = distiller.fit(x_train, y_train, epochs=3)\n",
    "# distiller.evaluate(x_test, y_test)\n",
    "# # LOGGER.info(\"End train and test knowledge distillation\")\n",
    "# # LOGGER.info(\"Train student from scratch for comparison\")\n",
    "# student_scratch.compile(\n",
    "#     optimizer=keras.optimizers.Adam(),\n",
    "#     loss=keras.losses.SparseCategoricalCrossentropy(from_logits=True),\n",
    "#     metrics=[keras.metrics.SparseCategoricalAccuracy()],\n",
    "# )"
   ]
  },
  {
   "cell_type": "code",
   "execution_count": null,
   "metadata": {},
   "outputs": [
    {
     "data": {
      "text/plain": [
       "<tensorflow.python.keras.callbacks.History at 0x2d63e7dfc10>"
      ]
     },
     "execution_count": 8,
     "metadata": {},
     "output_type": "execute_result"
    }
   ],
   "source": [
    "student_distiller_history.history()"
   ]
  },
  {
   "cell_type": "code",
   "execution_count": 7,
   "metadata": {},
   "outputs": [
    {
     "ename": "AttributeError",
     "evalue": "'History' object has no attribute 'keys'",
     "output_type": "error",
     "traceback": [
      "\u001b[1;31m---------------------------------------------------------------------------\u001b[0m",
      "\u001b[1;31mAttributeError\u001b[0m                            Traceback (most recent call last)",
      "\u001b[1;32m<ipython-input-7-4b267c6b8e12>\u001b[0m in \u001b[0;36m<module>\u001b[1;34m\u001b[0m\n\u001b[1;32m----> 1\u001b[1;33m \u001b[0mteacher_history\u001b[0m\u001b[1;33m.\u001b[0m\u001b[0mkeys\u001b[0m\u001b[1;33m(\u001b[0m\u001b[1;33m)\u001b[0m\u001b[1;33m\u001b[0m\u001b[1;33m\u001b[0m\u001b[0m\n\u001b[0m",
      "\u001b[1;31mAttributeError\u001b[0m: 'History' object has no attribute 'keys'"
     ]
    }
   ],
   "source": [
    "teacher_history.keys()"
   ]
  },
  {
   "cell_type": "code",
   "execution_count": 9,
   "metadata": {},
   "outputs": [
    {
     "data": {
      "text/plain": [
       "<tensorflow.python.keras.engine.sequential.Sequential at 0x2d4d41d7e20>"
      ]
     },
     "execution_count": 9,
     "metadata": {},
     "output_type": "execute_result"
    }
   ],
   "source": [
    "teacher"
   ]
  },
  {
   "cell_type": "code",
   "execution_count": null,
   "metadata": {},
   "outputs": [],
   "source": []
  }
 ],
 "metadata": {
  "interpreter": {
   "hash": "35e8c2bae4d9b8c6ecc3d9a6ac00d8dba765cacfc75c8143565d6d9ed94426a3"
  },
  "kernelspec": {
   "display_name": "Python 3.8.8 ('tensorflow-gpu-pip')",
   "language": "python",
   "name": "python3"
  },
  "language_info": {
   "codemirror_mode": {
    "name": "ipython",
    "version": 3
   },
   "file_extension": ".py",
   "mimetype": "text/x-python",
   "name": "python",
   "nbconvert_exporter": "python",
   "pygments_lexer": "ipython3",
   "version": "3.8.8"
  },
  "orig_nbformat": 4
 },
 "nbformat": 4,
 "nbformat_minor": 2
}
