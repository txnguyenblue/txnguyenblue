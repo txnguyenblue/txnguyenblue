{
 "cells": [
  {
   "cell_type": "code",
   "execution_count": 4,
   "metadata": {},
   "outputs": [],
   "source": [
    "%load_ext autoreload\n",
    "%autoreload 2"
   ]
  },
  {
   "cell_type": "code",
   "execution_count": 21,
   "metadata": {},
   "outputs": [],
   "source": [
    "import sys\n",
    "import pandas as pd\n",
    "import numpy as np\n",
    "import matplotlib.pyplot as plt\n",
    "from config import CONFIG\n",
    "\n",
    "\n",
    "# sys.path.insert(1, str(CONFIG.src))\n",
    "\n",
    "from utils import mean_squared_error_fn\n"
   ]
  },
  {
   "cell_type": "code",
   "execution_count": 12,
   "metadata": {},
   "outputs": [
    {
     "name": "stdout",
     "output_type": "stream",
     "text": [
      "[0 1 2 3 4]\n",
      "[0 1 2 3 4]\n"
     ]
    },
    {
     "data": {
      "text/plain": [
       "0.0"
      ]
     },
     "execution_count": 12,
     "metadata": {},
     "output_type": "execute_result"
    }
   ],
   "source": [
    "import numpy as np\n",
    "\n",
    "y_test = np.arange(0,5,step=1)\n",
    "y_pred = np.arange(0,5,step=1)\n",
    "print(y_test)\n",
    "print(y_pred)\n",
    "mean_squared_error_fn(y_test, y_pred)"
   ]
  },
  {
   "cell_type": "code",
   "execution_count": 13,
   "metadata": {},
   "outputs": [
    {
     "data": {
      "text/plain": [
       "0.5"
      ]
     },
     "execution_count": 13,
     "metadata": {},
     "output_type": "execute_result"
    }
   ],
   "source": [
    "y_test = [0, 2, 3, 1]\n",
    "y_pred = [0, 3, 4, 1]\n",
    "mean_squared_error_fn(y_pred, y_test)"
   ]
  },
  {
   "cell_type": "code",
   "execution_count": 26,
   "metadata": {},
   "outputs": [
    {
     "data": {
      "text/plain": [
       "array([[3, 2, 0],\n",
       "       [0, 1, 1],\n",
       "       [0, 0, 1]], dtype=int64)"
      ]
     },
     "execution_count": 26,
     "metadata": {},
     "output_type": "execute_result"
    }
   ],
   "source": [
    "df_confusion.values"
   ]
  },
  {
   "cell_type": "code",
   "execution_count": 30,
   "metadata": {},
   "outputs": [
    {
     "name": "stdout",
     "output_type": "stream",
     "text": [
      "Predicted  1  2  3\n",
      "Actual            \n",
      "1          3  2  0\n",
      "2          0  1  1\n",
      "3          0  0  1\n"
     ]
    },
    {
     "data": {
      "image/png": "[encoded data removed]",
      "text/plain": [
       "<Figure size 432x288 with 1 Axes>"
      ]
     },
     "metadata": {
      "needs_background": "light"
     },
     "output_type": "display_data"
    }
   ],
   "source": [
    "from typing import List, Union, Tuple\n",
    "\n",
    "Vector = Union[List, Tuple]\n",
    "\n",
    "def get_confusion_matrix(predictions: Vector, ground_truths: Vector) -> pd.DataFrame:\n",
    "    \"\"\"computing confusion matrix\n",
    "\n",
    "    Args:\n",
    "        predictions (Vector): predictions from the model\n",
    "        ground_truths (Vector): the labels\n",
    "    Return:\n",
    "        (pd.DataFrame): confusion matrix in dataframe\n",
    "    \"\"\"\n",
    "    df_confusion = pd.crosstab(ground_truths, predictions, rownames=[\"Actual\"], colnames=[\"Predicted\"])\n",
    "    return df_confusion\n",
    "\n",
    "preds = [1,2,3,1,2,1,1,1]\n",
    "labels = [1,2,3,2,3,1,1,2]\n",
    "\n",
    "df_confusion = get_confusion_matrix(labels, preds)\n",
    "print(df_confusion)\n",
    "fig, ax = plt.subplots()\n",
    "ax.matshow(df_confusion)\n",
    "for (i, j), value in np.ndenumerate(df_confusion.values):\n",
    "    ax.text(j, i, f\"{value}\", ha=\"center\", va=\"center\")\n"
   ]
  },
  {
   "cell_type": "code",
   "execution_count": 29,
   "metadata": {},
   "outputs": [
    {
     "data": {
      "text/plain": [
       "matplotlib.axes._subplots.AxesSubplot"
      ]
     },
     "execution_count": 29,
     "metadata": {},
     "output_type": "execute_result"
    }
   ],
   "source": [
    "type(ax)"
   ]
  },
  {
   "cell_type": "code",
   "execution_count": null,
   "metadata": {},
   "outputs": [],
   "source": []
  }
 ],
 "metadata": {
  "interpreter": {
   "hash": "d6d4c2b9170047357a1be17d2935845505041792bb5b936652ef924165202390"
  },
  "kernelspec": {
   "display_name": "Python 3.9.12 ('bluemethod')",
   "language": "python",
   "name": "python3"
  },
  "language_info": {
   "codemirror_mode": {
    "name": "ipython",
    "version": 3
   },
   "file_extension": ".py",
   "mimetype": "text/x-python",
   "name": "python",
   "nbconvert_exporter": "python",
   "pygments_lexer": "ipython3",
   "version": "3.9.12"
  },
  "orig_nbformat": 4
 },
 "nbformat": 4,
 "nbformat_minor": 2
}
